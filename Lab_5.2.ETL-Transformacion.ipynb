{
 "cells": [
  {
   "cell_type": "markdown",
   "metadata": {},
   "source": [
    "<div style=\"text-align: center;\">\n",
    "  <img src=\"https://github.com/Hack-io-Data/Imagenes/blob/main/01-LogosHackio/logo_amarillo@4x.png?raw=true\" alt=\"esquema\" />\n",
    "</div>"
   ]
  },
  {
   "cell_type": "markdown",
   "metadata": {},
   "source": [
    "\n",
    "# Laboratorio ETL: Análisis del Sistema Energético en España\n",
    "\n",
    "## Objetivo\n",
    "\n",
    "Durante todos los laboratorios de esta semana realizarás un proceso completo de ETL para analizar la relación entre la demanda, el consumo y la generación eléctrica en diferentes provincias de España a lo largo de un año. Además, complementarán este análisis con datos demográficos y económicos extraídos del Instituto Nacional de Estadística (INE). El **objetivo principal** del análisis es **examinar cómo la demanda, el consumo y la generación eléctrica en diferentes provincias de España a lo largo de los años están influenciados por factores demográficos y económicos, como la población y el PIB provincial**. El análisis busca identificar patrones y correlaciones entre estas variables para comprender mejor las dinámicas energéticas regionales y su relación con el desarrollo socioeconómico en España.\n",
    "\n",
    "Antes de realizar el análisis, vamos a definir las hipótesis con las que vamos a trabajar, las cuales definirán todo tu análisis y planteamiento de los laboratorios: \n",
    "\n",
    "- **Hipótesis 1: La demanda eléctrica está correlacionada con la población de la provincia.** Provincias con mayor población tienden a tener una mayor demanda eléctrica.\n",
    "  \n",
    "- **Hipótesis 2: El crecimiento económico (medido por el PIB) está correlacionado con el consumo eléctrico.** Las provincias con un PIB más alto o en crecimiento experimentan un mayor consumo de energía.\n",
    "\n",
    "- **Hipótesis 3: La proporción de generación renovable está relacionada con factores económicos o geográficos.** Provincias con un mayor desarrollo económico o con condiciones geográficas favorables (como más horas de sol o viento) tienden a generar más energía renovable.\n",
    "\n",
    "\n",
    "## Tareas Laboratorio Transformación\n",
    "\n",
    "En este laboratorio, tu objetivo será limpiar y preparar los datos extraídos previamente de diferentes fuentes para su posterior análisis. Trabajarás con datos provenientes de la API de Red Eléctrica Española (REE) y del Instituto Nacional de Estadística (INE). Estos datos incluyen información sobre demanda y generación eléctrica a nivel provincial, así como datos demográficos y económicos. \n",
    "\n",
    "\n",
    "- Cargar los Datos Extraídos:\n",
    "\n",
    "  - **Demanda Eléctrica:** Carga los datos de demanda eléctrica extraídos de la API de REE.\n",
    "\n",
    "  - **Generación Eléctrica:** Carga los datos de generación eléctrica diferenciados por tipo de energía (eólica, solar, hidroeléctrica, etc.) a nivel provincial.\n",
    "\n",
    "  - **Datos Demográficos:** Carga los datos demográficos por provincia extraídos de la web del INE.\n",
    "\n",
    "  - **Datos Económicos:** Carga los datos del PIB por provincia obtenidos del INE.\n",
    "\n",
    "\n",
    "-Limpieza de Datos:\n",
    "\n",
    "- Datos de la API de REE:\n",
    "\n",
    "  - **Demanda Eléctrica:**\n",
    "\n",
    "    - **Conversión de Timestamps:** Asegúrate de que las fechas estén correctamente formateadas en `datetime`. Si es necesario, convierte los datos a un formato uniforme (por ejemplo, `YYYY-MM` para datos mensuales).\n",
    "\n",
    "    - **Tratamiento de Valores Nulos:** Identifica y maneja los valores nulos en caso de que los haya. Puedes optar por eliminar filas con valores faltantes.\n",
    "\n",
    "    - **Estandarización de Nombres de Provincias:** Verifica que los nombres de las provincias estén estandarizados y coincidan en todos los conjuntos de datos. Si hay inconsistencias, corrígelas.\n",
    "\n",
    "  - **Generación Eléctrica:**\n",
    "\n",
    "    - **Desagregación de Tecnologías:** Asegúrate de que los datos estén correctamente desglosados por tipo de energía. Revisa que los campos correspondientes a energía eólica, solar, hidroeléctrica, etc., estén bien identificados y sin errores.\n",
    "\n",
    "    - **Normalización de Unidades:** Verifica que las unidades de energía estén estandarizadas (por ejemplo, MWh). Realiza las conversiones necesarias si se encuentran en otras unidades.\n",
    "\n",
    "    - **Identificación de Outliers:** Revisa los valores extremos o atípicos en la generación de energía y decide si deben ser tratados o eliminados.\n",
    "\n",
    "- Datos del INE:\n",
    "\n",
    "  - **Datos Demográficos:**\n",
    "\n",
    "    - **Consistencia en la Codificación de Provincias:** Asegúrate de que los nombres de las provincias en los datos demográficos coincidan con los nombres utilizados en los datos eléctricos.\n",
    "\n",
    "    - **Revisión de Categorías:** Verifica que las categorías de edad, sexo, y nacionalidad estén correctamente etiquetadas y sean consistentes en todo el dataset.\n",
    "\n",
    "    - **Manejo de Valores Faltantes:** Revisa la presencia de valores faltantes y decide cómo tratarlos (relleno, eliminación o sustitución).\n",
    "\n",
    "  - **Datos Económicos:**\n",
    "\n",
    "    - **Normalización del PIB:** Si los datos del PIB están en diferentes unidades o escalas, asegúrate de normalizarlos para que sean comparables entre provincias.\n",
    "\n",
    "    - **Agrupación Temporal:** Si los datos económicos están disponibles en diferentes periodos temporales, agrúpalos y normalízalos para que coincidan con los datos eléctricos en términos de granularidad temporal (mensual o anual).\n",
    "\n",
    "NOTA: Ten en cuenta que los datos los vamos a tener que insertar en una base de datos mañana, por lo que toda esta limpieza os recomendamos que la penséis para poder crear e insertar los datos mañana. "
   ]
  },
  {
   "cell_type": "markdown",
   "metadata": {},
   "source": []
  },
  {
   "cell_type": "code",
   "execution_count": 2,
   "metadata": {},
   "outputs": [],
   "source": [
    "# Path\n",
    "import sys\n",
    "sys.path.append('../')\n",
    "\n",
    "# Data\n",
    "import pandas as pd"
   ]
  },
  {
   "cell_type": "code",
   "execution_count": null,
   "metadata": {},
   "outputs": [],
   "source": []
  },
  {
   "cell_type": "code",
   "execution_count": 102,
   "metadata": {},
   "outputs": [],
   "source": [
    "df_generacion = pd.read_csv('./data/datosgeneración.csv',index_col=False)\n",
    "df_demanda = pd.read_csv('./data/datosdemanda.csv',index_col=False)\n",
    "df_datoseco=pd.read_csv('./data/datos_economicos.csv', encoding= \"latin 1\" ,sep=\";\")\n",
    "df_datosdemo=pd.read_csv('./data/datos_demograficos.csv', encoding= \"latin 1\" ,sep=\";\")"
   ]
  },
  {
   "cell_type": "code",
   "execution_count": 103,
   "metadata": {},
   "outputs": [],
   "source": [
    "df_generacion=df_generacion.drop(columns=\"Unnamed: 0\")"
   ]
  },
  {
   "cell_type": "code",
   "execution_count": 104,
   "metadata": {},
   "outputs": [
    {
     "data": {
      "text/plain": [
       "value           float64\n",
       "percentage      float64\n",
       "datetime         object\n",
       "Tipo             object\n",
       "Id_Comunidad      int64\n",
       "dtype: object"
      ]
     },
     "execution_count": 104,
     "metadata": {},
     "output_type": "execute_result"
    }
   ],
   "source": [
    "df_generacion.dtypes"
   ]
  },
  {
   "cell_type": "code",
   "execution_count": 110,
   "metadata": {},
   "outputs": [
    {
     "name": "stdout",
     "output_type": "stream",
     "text": [
      "Filas con errores en la conversión de fecha:          value  percentage datetime        Tipo  Id_Comunidad\n",
      "3        7.925    0.016925      NaT  generacion          8745\n",
      "4        8.683    0.016244      NaT  generacion          8745\n",
      "5        8.663    0.018741      NaT  generacion          8745\n",
      "6        8.167    0.018806      NaT  generacion          8745\n",
      "7        8.012    0.019998      NaT  generacion          8745\n",
      "..         ...         ...      ...         ...           ...\n",
      "640  10694.393    0.159294      NaT  generacion            20\n",
      "641  12821.849    0.146548      NaT  generacion            20\n",
      "642  14016.445    0.168879      NaT  generacion            20\n",
      "643   6190.632    0.105550      NaT  generacion            20\n",
      "644   2813.361    0.038771      NaT  generacion            20\n",
      "\n",
      "[377 rows x 5 columns]\n"
     ]
    }
   ],
   "source": [
    "# Intentar convertir a datetime y ver qué valores no se convierten\n",
    "df_generacion['datetime'] = pd.to_datetime(df_generacion['datetime'], errors='coerce')\n",
    "\n",
    "# Filtrar y mostrar las filas que siguen sin formato de fecha\n",
    "errores_fecha = df_generacion[df_generacion['datetime'].isna()]\n",
    "print(\"Filas con errores en la conversión de fecha:\", errores_fecha)\n"
   ]
  },
  {
   "cell_type": "code",
   "execution_count": 116,
   "metadata": {},
   "outputs": [
    {
     "data": {
      "text/plain": [
       "value             0\n",
       "percentage        0\n",
       "datetime        377\n",
       "Tipo              0\n",
       "Id_Comunidad      0\n",
       "dtype: int64"
      ]
     },
     "execution_count": 116,
     "metadata": {},
     "output_type": "execute_result"
    }
   ],
   "source": [
    "vacios_por_columna = df_generacion.isna().sum()\n",
    "vacios_por_columna"
   ]
  },
  {
   "cell_type": "code",
   "execution_count": 111,
   "metadata": {},
   "outputs": [],
   "source": [
    "df_generacion['datetime'] = pd.to_datetime(df_generacion['datetime'], errors='coerce')"
   ]
  },
  {
   "cell_type": "code",
   "execution_count": 112,
   "metadata": {},
   "outputs": [
    {
     "data": {
      "text/plain": [
       "<DatetimeArray>\n",
       "['2019-01-01 00:00:00+01:00', '2019-02-01 00:00:00+01:00',\n",
       " '2019-03-01 00:00:00+01:00',                       'NaT',\n",
       " '2019-11-01 00:00:00+01:00', '2019-12-01 00:00:00+01:00',\n",
       " '2020-01-01 00:00:00+01:00', '2020-02-01 00:00:00+01:00',\n",
       " '2020-03-01 00:00:00+01:00', '2020-11-01 00:00:00+01:00',\n",
       " '2020-12-01 00:00:00+01:00', '2021-01-01 00:00:00+01:00',\n",
       " '2021-02-01 00:00:00+01:00', '2021-03-01 00:00:00+01:00',\n",
       " '2021-11-01 00:00:00+01:00', '2021-12-01 00:00:00+01:00']\n",
       "Length: 16, dtype: datetime64[ns, UTC+01:00]"
      ]
     },
     "execution_count": 112,
     "metadata": {},
     "output_type": "execute_result"
    }
   ],
   "source": [
    "df_generacion['datetime'].unique()"
   ]
  },
  {
   "cell_type": "code",
   "execution_count": 113,
   "metadata": {},
   "outputs": [
    {
     "data": {
      "text/plain": [
       "value                             float64\n",
       "percentage                        float64\n",
       "datetime        datetime64[ns, UTC+01:00]\n",
       "Tipo                               object\n",
       "Id_Comunidad                        int64\n",
       "dtype: object"
      ]
     },
     "execution_count": 113,
     "metadata": {},
     "output_type": "execute_result"
    }
   ],
   "source": [
    "df_generacion.dtypes"
   ]
  },
  {
   "cell_type": "code",
   "execution_count": 114,
   "metadata": {},
   "outputs": [],
   "source": [
    "# # Guardar los DataFrames normalizados\n",
    "# df_datosdemo.to_csv('data/normalized_df_datosdemo.csv', index=False)\n",
    "# df_datoseconomicos.to_csv('data/normalized_df_datoseconomicos.csv', index=False)\n",
    "# df_demanda.to_csv('data/normalized_df_demanda.csv', index=False)\n",
    "# df_generacion.to_csv('data/normalized_df_generacion.csv', index=False)"
   ]
  }
 ],
 "metadata": {
  "kernelspec": {
   "display_name": "Python 3",
   "language": "python",
   "name": "python3"
  },
  "language_info": {
   "codemirror_mode": {
    "name": "ipython",
    "version": 3
   },
   "file_extension": ".py",
   "mimetype": "text/x-python",
   "name": "python",
   "nbconvert_exporter": "python",
   "pygments_lexer": "ipython3",
   "version": "3.12.7"
  }
 },
 "nbformat": 4,
 "nbformat_minor": 2
}
